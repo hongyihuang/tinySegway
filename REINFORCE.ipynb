{
 "cells": [
  {
   "cell_type": "code",
   "execution_count": 1,
   "metadata": {},
   "outputs": [
    {
     "name": "stderr",
     "output_type": "stream",
     "text": [
      "/Users/robertli/miniconda3/envs/mujoco_sim/lib/python3.9/site-packages/tqdm/auto.py:21: TqdmWarning: IProgress not found. Please update jupyter and ipywidgets. See https://ipywidgets.readthedocs.io/en/stable/user_install.html\n",
      "  from .autonotebook import tqdm as notebook_tqdm\n"
     ]
    }
   ],
   "source": [
    "from __future__ import annotations\n",
    "import random\n",
    "import matplotlib.pyplot as plt\n",
    "import numpy as np\n",
    "import pandas as pd\n",
    "import seaborn as sns\n",
    "import torch\n",
    "import torch.nn as nn\n",
    "from torch.distributions.normal import Normal\n",
    "import pickle\n",
    "\n",
    "import gymnasium as gym\n",
    "\n",
    "plt.rcParams[\"figure.figsize\"] = (10, 5)"
   ]
  },
  {
   "cell_type": "code",
   "execution_count": 2,
   "metadata": {},
   "outputs": [],
   "source": [
    "class Policy_Network(nn.Module):\n",
    "    \"\"\"Parametrized Policy Network.\"\"\"\n",
    "\n",
    "    def __init__(self, obs_space_dims: int, action_space_dims: int):\n",
    "        super().__init__()\n",
    "\n",
    "        hidden_space1 = 32\n",
    "        hidden_space2 = 32\n",
    "\n",
    "        # Shared Network\n",
    "        self.shared_net = nn.Sequential(\n",
    "            nn.Linear(obs_space_dims, hidden_space1),\n",
    "            nn.ReLU(),\n",
    "            nn.Linear(hidden_space1, hidden_space2),\n",
    "            nn.ReLU(),\n",
    "        )\n",
    "\n",
    "        # Policy Mean specific Linear Layer\n",
    "        self.policy_mean_net = nn.Sequential(\n",
    "            nn.Linear(hidden_space2, action_space_dims)\n",
    "        )\n",
    "\n",
    "        # Policy Std Dev specific Linear Layer\n",
    "        self.policy_stddev_net = nn.Sequential(\n",
    "            nn.Linear(hidden_space2, action_space_dims)\n",
    "        )\n",
    "\n",
    "    def forward(self, x: torch.Tensor) -> tuple[torch.Tensor, torch.Tensor]:\n",
    "        \"\"\"Conditioned on the observation, returns the mean and standard deviation\n",
    "         of a normal distribution from which an action is sampled from.\n",
    "\n",
    "        Args:\n",
    "            x: Observation from the environment\n",
    "\n",
    "        Returns:\n",
    "            action_means: predicted mean of the normal distribution\n",
    "            action_stddevs: predicted standard deviation of the normal distribution\n",
    "        \"\"\"\n",
    "        shared_features = self.shared_net(x.float())\n",
    "\n",
    "        action_means = self.policy_mean_net(shared_features)\n",
    "        action_stddevs = torch.log(\n",
    "            1 + torch.exp(self.policy_stddev_net(shared_features))\n",
    "        )\n",
    "        return action_means, action_stddevs"
   ]
  },
  {
   "cell_type": "code",
   "execution_count": 3,
   "metadata": {},
   "outputs": [],
   "source": [
    "class REINFORCE:\n",
    "    def __init__(self, obs_space_dims: int, action_space_dims: int, nn_file_path: str = None):\n",
    "        # Hyperparameters\n",
    "        self.learning_rate = 1e-4  # Learning rate for policy optimization\n",
    "        self.gamma = 0.99  # Discount factor\n",
    "        self.eps = 1e-6 \n",
    "\n",
    "        self.probs = []  # Stores probability values of the sampled action\n",
    "        self.rewards = []  # Stores the corresponding rewards\n",
    "        if nn_file_path == None:\n",
    "            self.net = Policy_Network(obs_space_dims, action_space_dims)\n",
    "        else:\n",
    "            with open(nn_file_path, 'rb') as file:\n",
    "                self.net = pickle.load(file)\n",
    "        self.optimizer = torch.optim.AdamW(self.net.parameters(), lr=self.learning_rate)\n",
    "\n",
    "    def sample_action(self, state: np.ndarray) -> float:\n",
    "        state = torch.tensor(np.array([state]))\n",
    "        action_means, action_stddevs = self.net(state)\n",
    "\n",
    "        # create a normal distribution from the predicted\n",
    "        #   mean and standard deviation and sample an action\n",
    "        distrib = Normal(action_means[0] + self.eps, action_stddevs[0] + self.eps)\n",
    "        action = distrib.sample()\n",
    "        prob = distrib.log_prob(action)\n",
    "\n",
    "        action = action.numpy()\n",
    "\n",
    "        self.probs.append(prob)\n",
    "\n",
    "        return action\n",
    "\n",
    "    def update(self):\n",
    "        \"\"\"Updates the policy network's weights.\"\"\"\n",
    "        running_g = 0\n",
    "        gs = []\n",
    "\n",
    "        # Discounted return (backwards) - [::-1] will return an array in reverse\n",
    "        for R in self.rewards[::-1]:\n",
    "            running_g = R + self.gamma * running_g\n",
    "            gs.insert(0, running_g)\n",
    "\n",
    "        deltas = torch.tensor(gs)\n",
    "\n",
    "        loss = 0\n",
    "        # minimize -1 * prob * reward obtained\n",
    "        for log_prob, delta in zip(self.probs, deltas):\n",
    "            loss += log_prob.mean() * delta * (-1)\n",
    "\n",
    "        # Update the policy network\n",
    "        self.optimizer.zero_grad()\n",
    "        loss.backward()\n",
    "        self.optimizer.step()\n",
    "\n",
    "        # Empty / zero out all episode-centric/related variables\n",
    "        self.probs = []\n",
    "        self.rewards = []\n",
    "    def save(self, nn_file_path: str):\n",
    "        with open(nn_file_path, 'wb') as file:\n",
    "            pickle.dump(self.net, file)\n"
   ]
  },
  {
   "cell_type": "code",
   "execution_count": 10,
   "metadata": {},
   "outputs": [
    {
     "name": "stdout",
     "output_type": "stream",
     "text": [
      "ob space: 3\n",
      "ac space: 1\n",
      "Episode: 0 Average Reward: 6\n",
      "Episode: 1000 Average Reward: 19\n",
      "Episode: 2000 Average Reward: 9\n",
      "Episode: 3000 Average Reward: 32\n",
      "Episode: 4000 Average Reward: 46\n",
      "Episode: 5000 Average Reward: 46\n",
      "Episode: 6000 Average Reward: 47\n",
      "Episode: 7000 Average Reward: 53\n",
      "Episode: 8000 Average Reward: 62\n",
      "Episode: 9000 Average Reward: 82\n",
      "Episode: 10000 Average Reward: 24\n",
      "Episode: 11000 Average Reward: 32\n",
      "Episode: 12000 Average Reward: 30\n",
      "Episode: 13000 Average Reward: 46\n",
      "Episode: 14000 Average Reward: 82\n",
      "Episode: 15000 Average Reward: 71\n",
      "Episode: 16000 Average Reward: 52\n",
      "Episode: 17000 Average Reward: 57\n",
      "Episode: 18000 Average Reward: 78\n",
      "Episode: 19000 Average Reward: 119\n",
      "Episode: 20000 Average Reward: 61\n",
      "Episode: 21000 Average Reward: 45\n",
      "Episode: 22000 Average Reward: 41\n",
      "Episode: 23000 Average Reward: 48\n",
      "Episode: 24000 Average Reward: 44\n",
      "Episode: 25000 Average Reward: 60\n",
      "Episode: 26000 Average Reward: 66\n",
      "Episode: 27000 Average Reward: 86\n",
      "Episode: 28000 Average Reward: 61\n",
      "Episode: 29000 Average Reward: 55\n",
      "Episode: 30000 Average Reward: 47\n",
      "Episode: 31000 Average Reward: 54\n",
      "Episode: 32000 Average Reward: 53\n",
      "Episode: 33000 Average Reward: 68\n",
      "Episode: 34000 Average Reward: 113\n",
      "Episode: 35000 Average Reward: 129\n",
      "Episode: 36000 Average Reward: 128\n"
     ]
    },
    {
     "ename": "KeyboardInterrupt",
     "evalue": "",
     "output_type": "error",
     "traceback": [
      "\u001b[0;31m---------------------------------------------------------------------------\u001b[0m",
      "\u001b[0;31mKeyboardInterrupt\u001b[0m                         Traceback (most recent call last)",
      "\u001b[1;32m/Users/robertli/github/EECS149/TinySegway/REINFORCE.ipynb Cell 4\u001b[0m line \u001b[0;36m2\n\u001b[1;32m     <a href='vscode-notebook-cell:/Users/robertli/github/EECS149/TinySegway/REINFORCE.ipynb#X24sZmlsZQ%3D%3D?line=22'>23</a>\u001b[0m done \u001b[39m=\u001b[39m \u001b[39mFalse\u001b[39;00m\n\u001b[1;32m     <a href='vscode-notebook-cell:/Users/robertli/github/EECS149/TinySegway/REINFORCE.ipynb#X24sZmlsZQ%3D%3D?line=23'>24</a>\u001b[0m \u001b[39mwhile\u001b[39;00m \u001b[39mnot\u001b[39;00m done:\n\u001b[0;32m---> <a href='vscode-notebook-cell:/Users/robertli/github/EECS149/TinySegway/REINFORCE.ipynb#X24sZmlsZQ%3D%3D?line=24'>25</a>\u001b[0m     action \u001b[39m=\u001b[39m agent\u001b[39m.\u001b[39;49msample_action(obs)\n\u001b[1;32m     <a href='vscode-notebook-cell:/Users/robertli/github/EECS149/TinySegway/REINFORCE.ipynb#X24sZmlsZQ%3D%3D?line=25'>26</a>\u001b[0m     obs, reward, terminated, truncated, info \u001b[39m=\u001b[39m wrapped_env\u001b[39m.\u001b[39mstep(action)\n\u001b[1;32m     <a href='vscode-notebook-cell:/Users/robertli/github/EECS149/TinySegway/REINFORCE.ipynb#X24sZmlsZQ%3D%3D?line=26'>27</a>\u001b[0m     agent\u001b[39m.\u001b[39mrewards\u001b[39m.\u001b[39mappend(reward)\n",
      "\u001b[1;32m/Users/robertli/github/EECS149/TinySegway/REINFORCE.ipynb Cell 4\u001b[0m line \u001b[0;36m3\n\u001b[1;32m     <a href='vscode-notebook-cell:/Users/robertli/github/EECS149/TinySegway/REINFORCE.ipynb#X24sZmlsZQ%3D%3D?line=30'>31</a>\u001b[0m distrib \u001b[39m=\u001b[39m Normal(action_means[\u001b[39m0\u001b[39m] \u001b[39m+\u001b[39m \u001b[39mself\u001b[39m\u001b[39m.\u001b[39meps, action_stddevs[\u001b[39m0\u001b[39m] \u001b[39m+\u001b[39m \u001b[39mself\u001b[39m\u001b[39m.\u001b[39meps)\n\u001b[1;32m     <a href='vscode-notebook-cell:/Users/robertli/github/EECS149/TinySegway/REINFORCE.ipynb#X24sZmlsZQ%3D%3D?line=31'>32</a>\u001b[0m action \u001b[39m=\u001b[39m distrib\u001b[39m.\u001b[39msample()\n\u001b[0;32m---> <a href='vscode-notebook-cell:/Users/robertli/github/EECS149/TinySegway/REINFORCE.ipynb#X24sZmlsZQ%3D%3D?line=32'>33</a>\u001b[0m prob \u001b[39m=\u001b[39m distrib\u001b[39m.\u001b[39;49mlog_prob(action)\n\u001b[1;32m     <a href='vscode-notebook-cell:/Users/robertli/github/EECS149/TinySegway/REINFORCE.ipynb#X24sZmlsZQ%3D%3D?line=34'>35</a>\u001b[0m action \u001b[39m=\u001b[39m action\u001b[39m.\u001b[39mnumpy()\n\u001b[1;32m     <a href='vscode-notebook-cell:/Users/robertli/github/EECS149/TinySegway/REINFORCE.ipynb#X24sZmlsZQ%3D%3D?line=36'>37</a>\u001b[0m \u001b[39mself\u001b[39m\u001b[39m.\u001b[39mprobs\u001b[39m.\u001b[39mappend(prob)\n",
      "File \u001b[0;32m~/miniconda3/envs/mujoco_sim/lib/python3.9/site-packages/torch/distributions/normal.py:79\u001b[0m, in \u001b[0;36mNormal.log_prob\u001b[0;34m(self, value)\u001b[0m\n\u001b[1;32m     77\u001b[0m \u001b[39mdef\u001b[39;00m \u001b[39mlog_prob\u001b[39m(\u001b[39mself\u001b[39m, value):\n\u001b[1;32m     78\u001b[0m     \u001b[39mif\u001b[39;00m \u001b[39mself\u001b[39m\u001b[39m.\u001b[39m_validate_args:\n\u001b[0;32m---> 79\u001b[0m         \u001b[39mself\u001b[39;49m\u001b[39m.\u001b[39;49m_validate_sample(value)\n\u001b[1;32m     80\u001b[0m     \u001b[39m# compute the variance\u001b[39;00m\n\u001b[1;32m     81\u001b[0m     var \u001b[39m=\u001b[39m (\u001b[39mself\u001b[39m\u001b[39m.\u001b[39mscale \u001b[39m*\u001b[39m\u001b[39m*\u001b[39m \u001b[39m2\u001b[39m)\n",
      "File \u001b[0;32m~/miniconda3/envs/mujoco_sim/lib/python3.9/site-packages/torch/distributions/distribution.py:281\u001b[0m, in \u001b[0;36mDistribution._validate_sample\u001b[0;34m(self, value)\u001b[0m\n\u001b[1;32m    279\u001b[0m expected_shape \u001b[39m=\u001b[39m \u001b[39mself\u001b[39m\u001b[39m.\u001b[39m_batch_shape \u001b[39m+\u001b[39m \u001b[39mself\u001b[39m\u001b[39m.\u001b[39m_event_shape\n\u001b[1;32m    280\u001b[0m \u001b[39mfor\u001b[39;00m i, j \u001b[39min\u001b[39;00m \u001b[39mzip\u001b[39m(\u001b[39mreversed\u001b[39m(actual_shape), \u001b[39mreversed\u001b[39m(expected_shape)):\n\u001b[0;32m--> 281\u001b[0m     \u001b[39mif\u001b[39;00m i \u001b[39m!=\u001b[39;49m \u001b[39m1\u001b[39;49m \u001b[39mand\u001b[39;00m j \u001b[39m!=\u001b[39m \u001b[39m1\u001b[39m \u001b[39mand\u001b[39;00m i \u001b[39m!=\u001b[39m j:\n\u001b[1;32m    282\u001b[0m         \u001b[39mraise\u001b[39;00m \u001b[39mValueError\u001b[39;00m(\u001b[39m'\u001b[39m\u001b[39mValue is not broadcastable with batch_shape+event_shape: \u001b[39m\u001b[39m{}\u001b[39;00m\u001b[39m vs \u001b[39m\u001b[39m{}\u001b[39;00m\u001b[39m.\u001b[39m\u001b[39m'\u001b[39m\u001b[39m.\u001b[39m\n\u001b[1;32m    283\u001b[0m                          \u001b[39mformat\u001b[39m(actual_shape, expected_shape))\n\u001b[1;32m    284\u001b[0m \u001b[39mtry\u001b[39;00m:\n",
      "\u001b[0;31mKeyboardInterrupt\u001b[0m: "
     ]
    }
   ],
   "source": [
    "# env = gym.make(\"InvertedPendulum-v4\", render_mode = 'rgb_array')\n",
    "from segway_sim.envs import SegwayEnv\n",
    "env = SegwayEnv(max_ep_len = 1000)\n",
    "wrapped_env = gym.wrappers.RecordEpisodeStatistics(env, 50)  # Records episode-reward\n",
    "# wrapped_env = gym.wrappers.RecordVideo(wrapped_env, 'videos', episode_trigger = lambda x: x % 1000 == 0)\n",
    "\n",
    "obs_space_dims = env.observation_space.shape[0]\n",
    "action_space_dims = env.action_space.shape[0]\n",
    "print('ob space:', obs_space_dims)\n",
    "print('ac space:', action_space_dims)\n",
    "\n",
    "seed = 1\n",
    "torch.manual_seed(seed)\n",
    "random.seed(seed)\n",
    "np.random.seed(seed)\n",
    "\n",
    "agent = REINFORCE(obs_space_dims, action_space_dims)\n",
    "agent.learning_rate = 1e-5\n",
    "reward_over_episodes = []\n",
    "\n",
    "for episode in range(100000):\n",
    "    obs, info = wrapped_env.reset(seed=seed)\n",
    "    done = False\n",
    "    while not done:\n",
    "        action = agent.sample_action(obs)\n",
    "        obs, reward, terminated, truncated, info = wrapped_env.step(action)\n",
    "        agent.rewards.append(reward)\n",
    "        done = terminated or truncated\n",
    "\n",
    "    reward_over_episodes.append(wrapped_env.return_queue[-1])\n",
    "    agent.update()\n",
    "\n",
    "    if np.mean(wrapped_env.return_queue) > 200:\n",
    "        break\n",
    "\n",
    "    if episode % 1000 == 0:\n",
    "        avg_reward = int(np.mean(wrapped_env.return_queue))\n",
    "        print(\"Episode:\", episode, \"Average Reward:\", avg_reward)\n",
    "agent.save('nn_segway.pkl')"
   ]
  },
  {
   "cell_type": "code",
   "execution_count": 14,
   "metadata": {},
   "outputs": [],
   "source": [
    "agent.save('nn_segway.pkl')"
   ]
  },
  {
   "cell_type": "code",
   "execution_count": 12,
   "metadata": {},
   "outputs": [
    {
     "data": {
      "image/png": "[encoded data removed]",
      "text/plain": [
       "<Figure size 1000x600 with 1 Axes>"
      ]
     },
     "metadata": {},
     "output_type": "display_data"
    }
   ],
   "source": [
    "plt.figure(figsize=(10, 6))\n",
    "plt.plot(reward_over_episodes)\n",
    "plt.title(\"Rewards Over Episodes\")\n",
    "plt.xlabel(\"Episodes\")\n",
    "plt.ylabel(\"Reward\")\n",
    "plt.grid(True)\n",
    "plt.show()"
   ]
  },
  {
   "cell_type": "code",
   "execution_count": 13,
   "metadata": {},
   "outputs": [
    {
     "name": "stderr",
     "output_type": "stream",
     "text": [
      "/Users/robertli/miniconda3/envs/mujoco_sim/lib/python3.9/site-packages/gymnasium/wrappers/record_video.py:94: UserWarning: \u001b[33mWARN: Overwriting existing videos at /Users/robertli/github/EECS149/TinySegway/videos folder (try specifying a different `video_folder` for the `RecordVideo` wrapper if this is not desired)\u001b[0m\n",
      "  logger.warn(\n"
     ]
    },
    {
     "name": "stdout",
     "output_type": "stream",
     "text": [
      "Box(-1.0, 1.0, (1,), float32)\n",
      "Moviepy - Building video /Users/robertli/github/EECS149/TinySegway/videos/Segway-episode-0.mp4.\n",
      "Moviepy - Writing video /Users/robertli/github/EECS149/TinySegway/videos/Segway-episode-0.mp4\n",
      "\n"
     ]
    },
    {
     "name": "stderr",
     "output_type": "stream",
     "text": [
      "                                                               \r"
     ]
    },
    {
     "name": "stdout",
     "output_type": "stream",
     "text": [
      "Moviepy - Done !\n",
      "Moviepy - video ready /Users/robertli/github/EECS149/TinySegway/videos/Segway-episode-0.mp4\n",
      "terminated at 118\n"
     ]
    }
   ],
   "source": [
    "from gymnasium.wrappers import RecordVideo\n",
    "# env = gym.make(\"InvertedPendulum-v4\", render_mode = 'rgb_array')\n",
    "env = SegwayEnv(max_ep_len = 1000, render_mode=\"rgb_array\")\n",
    "video_env = RecordVideo(env, video_folder=\"videos\", name_prefix=\"Segway\")\n",
    "observation, info = video_env.reset(seed=seed)\n",
    "print(video_env.action_space)\n",
    "for i in range(1000):\n",
    "    action = agent.sample_action(observation)\n",
    "    # print(action)\n",
    "    # action = env.action_space.sample()\n",
    "    observation, reward, terminated, truncated, info = video_env.step(action)\n",
    "    if terminated or truncated:\n",
    "        print(\"terminated at\", i)\n",
    "        break\n",
    "        observation, info = video_env.reset()\n",
    "video_env.close()"
   ]
  },
  {
   "cell_type": "code",
   "execution_count": null,
   "metadata": {},
   "outputs": [],
   "source": []
  }
 ],
 "metadata": {
  "kernelspec": {
   "display_name": "mujoco_sim",
   "language": "python",
   "name": "python3"
  },
  "language_info": {
   "codemirror_mode": {
    "name": "ipython",
    "version": 3
   },
   "file_extension": ".py",
   "mimetype": "text/x-python",
   "name": "python",
   "nbconvert_exporter": "python",
   "pygments_lexer": "ipython3",
   "version": "3.9.18"
  }
 },
 "nbformat": 4,
 "nbformat_minor": 2
}
